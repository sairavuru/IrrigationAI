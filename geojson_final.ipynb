{
 "cells": [
  {
   "cell_type": "code",
   "execution_count": 1,
   "metadata": {},
   "outputs": [],
   "source": [
    "import rasterio as rio\n",
    "import pandas as pd, json\n",
    "import numpy as np\n",
    "import time\n",
    "import geojson"
   ]
  },
  {
   "cell_type": "markdown",
   "metadata": {},
   "source": [
    "### Georeferencing"
   ]
  },
  {
   "cell_type": "code",
   "execution_count": null,
   "metadata": {},
   "outputs": [],
   "source": [
    "gdal_translate -of GTiff -gcp 11.4625 6.2766 -180 90 -gcp 11.4625 4800.7 -180 -90 -gcp 4819.45 4814.26 180 -90 -gcp 4805.89 6.2766 180 90 \"/Users/kaiqi/Desktop/W210/monthly_growing_area_grids/IRRIG_ASC_files/result_threshold.tif\" \"/private/var/folders/9k/25jfq71d70v_hh04cjjb94jr0000gp/T/result_threshold.tif\"\n",
    "gdalwarp -r near -tps -co COMPRESS=NONE  -t_srs EPSG:4326 \"/private/var/folders/9k/25jfq71d70v_hh04cjjb94jr0000gp/T/result_threshold.tif\" \"/Users/kaiqi/Desktop/W210/monthly_growing_area_grids/IRRIG_ASC_files/result_threshold_modified.tif\"\n"
   ]
  },
  {
   "cell_type": "code",
   "execution_count": 140,
   "metadata": {},
   "outputs": [
    {
     "name": "stdout",
     "output_type": "stream",
     "text": [
      "Input file size is 4800, 4800\n",
      "0...10...20...30...40...50...60...70...80...90...100 - done.\n"
     ]
    }
   ],
   "source": [
    "# # v2\n",
    "# !gdal_translate -of GTiff -gcp 0 6.2766 -180 90 -gcp 0 4800.7 -180 -90 -gcp 4805.89 4814.26 180 -90 -gcp 4805.89 6.2766 180 90 \"/Users/kaiqi/Desktop/W210/monthly_growing_area_grids/IRRIG_ASC_files/result_threshold.tif\" \"/private/var/folders/9k/25jfq71d70v_hh04cjjb94jr0000gp/T/result_threshold.tif\"\n",
    "# v3\n",
    "!gdal_translate -of GTiff -gcp 0 0 -180 90 -gcp 0 4800 -180 -90 -gcp 4800 4800 180 -90 -gcp 4800 0 180 90 \"/Users/kaiqi/Desktop/W210/monthly_growing_area_grids/RESULTS/2019/result_2019_12.tif\" \"/private/var/folders/9k/25jfq71d70v_hh04cjjb94jr0000gp/T/result.tif\"\n",
    "# !gdal_translate -of GTiff -gcp 0 0 -180 90 -gcp 0 4800 -180 -90 -gcp 4800 4800 180 -90 -gcp 4800 0 180 90 \"/Users/kaiqi/Desktop/W210/monthly_growing_area_grids/IRRIG_ASC_files/result_50.tif\" \"/private/var/folders/9k/25jfq71d70v_hh04cjjb94jr0000gp/T/result.tif\""
   ]
  },
  {
   "cell_type": "code",
   "execution_count": 141,
   "metadata": {},
   "outputs": [
    {
     "name": "stdout",
     "output_type": "stream",
     "text": [
      "Creating output file that is 6072P x 3036L.\n",
      "Processing /private/var/folders/9k/25jfq71d70v_hh04cjjb94jr0000gp/T/result.tif [1/1] : 0...10...20...30...40...50...60...70...80...90...100 - done.\n"
     ]
    }
   ],
   "source": [
    "!gdalwarp -r near -tps -co COMPRESS=NONE  -t_srs EPSG:4326 \"/private/var/folders/9k/25jfq71d70v_hh04cjjb94jr0000gp/T/result.tif\" \"/Users/kaiqi/Desktop/W210/monthly_growing_area_grids/RESULTS/2019/result_2019_012.tif\""
   ]
  },
  {
   "cell_type": "markdown",
   "metadata": {},
   "source": [
    "### tif to asc"
   ]
  },
  {
   "cell_type": "code",
   "execution_count": 142,
   "metadata": {},
   "outputs": [
    {
     "name": "stdout",
     "output_type": "stream",
     "text": [
      "Input file size is 6072, 3036\n",
      "0...10...20...30...40...50...60...70...80...90...100 - done.\n"
     ]
    }
   ],
   "source": [
    "!gdal_translate -of GTiff \"/Users/kaiqi/Desktop/W210/monthly_growing_area_grids/RESULTS/2019/result_2019_012.tif\" \"result_2019_012.asc\""
   ]
  },
  {
   "cell_type": "code",
   "execution_count": 143,
   "metadata": {},
   "outputs": [],
   "source": [
    "src = rio.open(\"result_2019_001.asc\")\n",
    "data = src.read()\n",
    "mosaic = data[0]"
   ]
  },
  {
   "cell_type": "code",
   "execution_count": 144,
   "metadata": {},
   "outputs": [
    {
     "name": "stdout",
     "output_type": "stream",
     "text": [
      "(3036, 6072)\n"
     ]
    }
   ],
   "source": [
    "print(mosaic.shape)"
   ]
  },
  {
   "cell_type": "code",
   "execution_count": 145,
   "metadata": {},
   "outputs": [
    {
     "data": {
      "text/plain": [
       "array([1., 1., 1., ..., 1., 1., 1.], dtype=float32)"
      ]
     },
     "execution_count": 145,
     "metadata": {},
     "output_type": "execute_result"
    }
   ],
   "source": [
    "mosaic[mosaic>0]"
   ]
  },
  {
   "cell_type": "markdown",
   "metadata": {},
   "source": [
    "### Get xyz of georeferenced asc file"
   ]
  },
  {
   "cell_type": "code",
   "execution_count": 14,
   "metadata": {},
   "outputs": [
    {
     "name": "stdout",
     "output_type": "stream",
     "text": [
      "Input file size is 6072, 3036\n",
      "0...10...20...30...40...50...60...70...80...90...100 - done.\n"
     ]
    }
   ],
   "source": [
    "!gdal_translate -of xyz -co ADD_HEADER_LINE=YES -co COLUMN_SEPARATOR=\",\" \"result_01_001.asc\" xyz_result_2008.csv"
   ]
  },
  {
   "cell_type": "markdown",
   "metadata": {},
   "source": [
    "### Steps\n",
    "1. Turn the lat-lon into dataframe \n",
    "2. Get the data array from the asc file, flatten array\n",
    "3. Combine lat-lon and data array, Turn into df\n",
    "4. Add in month column to array \n",
    "5. Filter for rows where irrig = 1\n",
    "6. Use df to geojson function\n"
   ]
  },
  {
   "cell_type": "code",
   "execution_count": 60,
   "metadata": {},
   "outputs": [],
   "source": [
    "### 1. Get the lat-lon from xyz file \n",
    "# xyz_coord = pd.read_csv(\"xyz_points.csv\") # labelled dataset 2160 x 4320\n",
    "xyz_coord = pd.read_csv(\"xyz_result_2008.csv\") # xyz for result_threshold_modified.asc\n",
    "xyz_coord = xyz_coord.rename(columns={'X':'longitude', 'Y':'latitude'})"
   ]
  },
  {
   "cell_type": "code",
   "execution_count": 61,
   "metadata": {},
   "outputs": [
    {
     "data": {
      "text/html": [
       "<div>\n",
       "<style scoped>\n",
       "    .dataframe tbody tr th:only-of-type {\n",
       "        vertical-align: middle;\n",
       "    }\n",
       "\n",
       "    .dataframe tbody tr th {\n",
       "        vertical-align: top;\n",
       "    }\n",
       "\n",
       "    .dataframe thead th {\n",
       "        text-align: right;\n",
       "    }\n",
       "</style>\n",
       "<table border=\"1\" class=\"dataframe\">\n",
       "  <thead>\n",
       "    <tr style=\"text-align: right;\">\n",
       "      <th></th>\n",
       "      <th>longitude</th>\n",
       "      <th>latitude</th>\n",
       "      <th>Z</th>\n",
       "    </tr>\n",
       "  </thead>\n",
       "  <tbody>\n",
       "    <tr>\n",
       "      <td>0</td>\n",
       "      <td>-179.970354</td>\n",
       "      <td>89.970354</td>\n",
       "      <td>0</td>\n",
       "    </tr>\n",
       "    <tr>\n",
       "      <td>1</td>\n",
       "      <td>-179.911061</td>\n",
       "      <td>89.970354</td>\n",
       "      <td>0</td>\n",
       "    </tr>\n",
       "    <tr>\n",
       "      <td>2</td>\n",
       "      <td>-179.851768</td>\n",
       "      <td>89.970354</td>\n",
       "      <td>0</td>\n",
       "    </tr>\n",
       "    <tr>\n",
       "      <td>3</td>\n",
       "      <td>-179.792476</td>\n",
       "      <td>89.970354</td>\n",
       "      <td>0</td>\n",
       "    </tr>\n",
       "    <tr>\n",
       "      <td>4</td>\n",
       "      <td>-179.733183</td>\n",
       "      <td>89.970354</td>\n",
       "      <td>0</td>\n",
       "    </tr>\n",
       "  </tbody>\n",
       "</table>\n",
       "</div>"
      ],
      "text/plain": [
       "    longitude   latitude  Z\n",
       "0 -179.970354  89.970354  0\n",
       "1 -179.911061  89.970354  0\n",
       "2 -179.851768  89.970354  0\n",
       "3 -179.792476  89.970354  0\n",
       "4 -179.733183  89.970354  0"
      ]
     },
     "execution_count": 61,
     "metadata": {},
     "output_type": "execute_result"
    }
   ],
   "source": [
    "xyz_coord.shape\n",
    "xyz_coord.head()"
   ]
  },
  {
   "cell_type": "code",
   "execution_count": 99,
   "metadata": {},
   "outputs": [
    {
     "data": {
      "text/html": [
       "<div>\n",
       "<style scoped>\n",
       "    .dataframe tbody tr th:only-of-type {\n",
       "        vertical-align: middle;\n",
       "    }\n",
       "\n",
       "    .dataframe tbody tr th {\n",
       "        vertical-align: top;\n",
       "    }\n",
       "\n",
       "    .dataframe thead th {\n",
       "        text-align: right;\n",
       "    }\n",
       "</style>\n",
       "<table border=\"1\" class=\"dataframe\">\n",
       "  <thead>\n",
       "    <tr style=\"text-align: right;\">\n",
       "      <th></th>\n",
       "      <th>longitude</th>\n",
       "      <th>latitude</th>\n",
       "      <th>Z</th>\n",
       "    </tr>\n",
       "  </thead>\n",
       "  <tbody>\n",
       "    <tr>\n",
       "      <td>0</td>\n",
       "      <td>-179.97</td>\n",
       "      <td>89.97</td>\n",
       "      <td>0</td>\n",
       "    </tr>\n",
       "    <tr>\n",
       "      <td>1</td>\n",
       "      <td>-179.91</td>\n",
       "      <td>89.97</td>\n",
       "      <td>0</td>\n",
       "    </tr>\n",
       "    <tr>\n",
       "      <td>2</td>\n",
       "      <td>-179.85</td>\n",
       "      <td>89.97</td>\n",
       "      <td>0</td>\n",
       "    </tr>\n",
       "    <tr>\n",
       "      <td>3</td>\n",
       "      <td>-179.79</td>\n",
       "      <td>89.97</td>\n",
       "      <td>0</td>\n",
       "    </tr>\n",
       "    <tr>\n",
       "      <td>4</td>\n",
       "      <td>-179.73</td>\n",
       "      <td>89.97</td>\n",
       "      <td>0</td>\n",
       "    </tr>\n",
       "  </tbody>\n",
       "</table>\n",
       "</div>"
      ],
      "text/plain": [
       "   longitude  latitude  Z\n",
       "0    -179.97     89.97  0\n",
       "1    -179.91     89.97  0\n",
       "2    -179.85     89.97  0\n",
       "3    -179.79     89.97  0\n",
       "4    -179.73     89.97  0"
      ]
     },
     "execution_count": 99,
     "metadata": {},
     "output_type": "execute_result"
    }
   ],
   "source": [
    "xyz_coord.longitude = xyz_coord.longitude.round(decimals=2)\n",
    "xyz_coord.latitude = xyz_coord.latitude.round(decimals=2)\n",
    "xyz_coord.head()"
   ]
  },
  {
   "cell_type": "code",
   "execution_count": 63,
   "metadata": {},
   "outputs": [],
   "source": [
    "month_dict = {'001': 0,'002': 1,'003': 2,'004': 3,'005': 4,'006': 5,\n",
    "              '007': 6,'008': 7,'009': 8,'010': 9,'011': 10,'012': 11}\n",
    "\n",
    "def process(filelist):\n",
    "    \n",
    "    final_df = pd.DataFrame()\n",
    "    for file in filelist:\n",
    "        \n",
    "        month_no = file[-7:-4:1]\n",
    "        \n",
    "        src = rio.open(file)\n",
    "        data = src.read()\n",
    "        mosaic = data[0]\n",
    "#         mosaic_replace = np.where(mosaic > 0, 1, 0).flatten() # for result tifs\n",
    "#         mosaic_replace = np.where(mosaic > 10, 1, 0).flatten() # use this for labeled dataset\n",
    "        mosaic_replace = mosaic.flatten()\n",
    "    \n",
    "        mosaic_df = pd.DataFrame(data=mosaic_replace)\n",
    "        mosaic_df = mosaic_df.rename(columns={0: \"irrig\"})\n",
    "        comb_df = pd.concat([xyz_coord, mosaic_df], axis=1)\n",
    "        \n",
    "        comb_filtered = comb_df[comb_df.irrig != 0]\n",
    "        comb_filtered['month'] = [month_dict[month_no] for x in list(range(len(comb_filtered)))]\n",
    "        comb_alt = comb_filtered.iloc[::5, :]  # get every nth point\n",
    "#         comb_alt = comb_filtered.iloc[::10, :]  # get every nth point\n",
    "#         comb_alt = comb_filtered\n",
    "    \n",
    "        final_df = pd.concat([final_df, comb_alt], ignore_index=True)\n",
    "    \n",
    "    return final_df"
   ]
  },
  {
   "cell_type": "code",
   "execution_count": 97,
   "metadata": {},
   "outputs": [
    {
     "data": {
      "text/plain": [
       "array([65535, 65535, 65535, ..., 65535, 65535, 65535], dtype=uint16)"
      ]
     },
     "execution_count": 97,
     "metadata": {},
     "output_type": "execute_result"
    }
   ],
   "source": [
    "file = 'result_25_001.asc'\n",
    "src = rio.open(file)\n",
    "data = src.read()\n",
    "mosaic = data[0]\n",
    "mosaic[mosaic>0]\n",
    "# mosaic_replace = np.where(mosaic > 0, 1, 0).flatten() \n",
    "# mosaic_replace[mosaic_replace>0]"
   ]
  },
  {
   "cell_type": "code",
   "execution_count": 64,
   "metadata": {},
   "outputs": [],
   "source": [
    "# code from https://geoffboeing.com/2015/10/exporting-python-data-geojson/\n",
    "# check out https://github.com/gboeing/urban-data-science/blob/master/17-Leaflet-Web-Mapping/leaflet-simple-demo/pandas-to-geojson.ipynb\n",
    "def df_to_geojson(df, properties, lat='latitude', lon='longitude'):\n",
    "    geojson = {'type':'FeatureCollection', 'features':[]}\n",
    "    for _, row in df.iterrows():\n",
    "        feature = {'type':'Feature',\n",
    "                   'properties':{},\n",
    "                   'geometry':{'type':'Point',\n",
    "                               'coordinates':[]}}\n",
    "        feature['geometry']['coordinates'] = [row[lon],row[lat]]\n",
    "        for prop in properties:\n",
    "            feature['properties'][prop] = row[prop]\n",
    "        geojson['features'].append(feature)\n",
    "    return geojson"
   ]
  },
  {
   "cell_type": "code",
   "execution_count": 147,
   "metadata": {},
   "outputs": [
    {
     "name": "stderr",
     "output_type": "stream",
     "text": [
      "/Users/kaiqi/opt/anaconda3/lib/python3.7/site-packages/ipykernel_launcher.py:23: SettingWithCopyWarning: \n",
      "A value is trying to be set on a copy of a slice from a DataFrame.\n",
      "Try using .loc[row_indexer,col_indexer] = value instead\n",
      "\n",
      "See the caveats in the documentation: http://pandas.pydata.org/pandas-docs/stable/user_guide/indexing.html#returning-a-view-versus-a-copy\n"
     ]
    },
    {
     "name": "stdout",
     "output_type": "stream",
     "text": [
      "        longitude  latitude  Z  irrig  month\n",
      "0            9.77     58.84  1    1.0      0\n",
      "1           10.06     58.84  1    1.0      0\n",
      "2           10.36     58.84  1    1.0      0\n",
      "3            9.88     58.78  1    1.0      0\n",
      "4           10.18     58.78  1    1.0      0\n",
      "...           ...       ... ..    ...    ...\n",
      "385539     -69.63    -49.72  0    1.0      2\n",
      "385540     -69.33    -49.72  0    1.0      2\n",
      "385541     -70.16    -49.78  0    1.0      2\n",
      "385542     -69.86    -49.78  0    1.0      2\n",
      "385543     -69.57    -49.78  0    1.0      2\n",
      "\n",
      "[385544 rows x 5 columns]\n",
      "Start converting to geojson...\n",
      "Complete. Time taken in s 31.394718885421753\n"
     ]
    }
   ],
   "source": [
    "# files = ['result_2019_001.asc']\n",
    "# files = ['result_25_001.asc']\n",
    "files = [\"result_2019_001.asc\",\"result_2019_002.asc\",\"result_2019_003.asc\"]\n",
    "# files =[\"allcrop_irrigated_011.asc\",\"allcrop_irrigated_012.asc\"]\n",
    "\n",
    "output_filename = 'pred_2019_001_002_003.geojson'\n",
    "\n",
    "result_df = process(files)\n",
    "print(result_df.head(-10))\n",
    "print(\"Start converting to geojson...\")\n",
    "\n",
    "cols = ['irrig','month']\n",
    "start = time.time()\n",
    "geojson_dict = df_to_geojson(result_df, properties=cols)\n",
    "\n",
    "end = time.time()\n",
    "print(\"Complete. Time taken in s\", end - start)\n",
    "\n",
    "geojson_str = json.dumps(geojson_dict, indent=2)\n",
    "\n",
    "with open(output_filename, 'w') as output_file:\n",
    "    output_file.write('{}'.format(geojson_str))"
   ]
  },
  {
   "cell_type": "code",
   "execution_count": null,
   "metadata": {},
   "outputs": [],
   "source": []
  }
 ],
 "metadata": {
  "kernelspec": {
   "display_name": "Python 3",
   "language": "python",
   "name": "python3"
  },
  "language_info": {
   "codemirror_mode": {
    "name": "ipython",
    "version": 3
   },
   "file_extension": ".py",
   "mimetype": "text/x-python",
   "name": "python",
   "nbconvert_exporter": "python",
   "pygments_lexer": "ipython3",
   "version": "3.7.4"
  }
 },
 "nbformat": 4,
 "nbformat_minor": 2
}
